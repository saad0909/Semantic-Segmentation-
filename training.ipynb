{
  "nbformat": 4,
  "nbformat_minor": 0,
  "metadata": {
    "colab": {
      "provenance": []
    },
    "kernelspec": {
      "name": "python3",
      "display_name": "Python 3"
    },
    "language_info": {
      "name": "python"
    }
  },
  "cells": [
    {
      "cell_type": "code",
      "source": [
        "!pip install keras-segmentation"
      ],
      "metadata": {
        "colab": {
          "base_uri": "https://localhost:8080/"
        },
        "id": "_jlcDlOWYLxP",
        "outputId": "4909f3aa-28e7-4f4e-d725-388e317e8e99"
      },
      "execution_count": 1,
      "outputs": [
        {
          "output_type": "stream",
          "name": "stdout",
          "text": [
            "Collecting keras-segmentation\n",
            "  Downloading keras_segmentation-0.3.0.tar.gz (23 kB)\n",
            "  Preparing metadata (setup.py) ... \u001b[?25l\u001b[?25hdone\n",
            "Requirement already satisfied: Keras>=2.0.0 in /usr/local/lib/python3.10/dist-packages (from keras-segmentation) (2.15.0)\n",
            "Collecting imageio==2.5.0 (from keras-segmentation)\n",
            "  Downloading imageio-2.5.0-py3-none-any.whl (3.3 MB)\n",
            "\u001b[2K     \u001b[90m━━━━━━━━━━━━━━━━━━━━━━━━━━━━━━━━━━━━━━━━\u001b[0m \u001b[32m3.3/3.3 MB\u001b[0m \u001b[31m10.1 MB/s\u001b[0m eta \u001b[36m0:00:00\u001b[0m\n",
            "\u001b[?25hCollecting imgaug==0.2.9 (from keras-segmentation)\n",
            "  Downloading imgaug-0.2.9-py2.py3-none-any.whl (753 kB)\n",
            "\u001b[2K     \u001b[90m━━━━━━━━━━━━━━━━━━━━━━━━━━━━━━━━━━━━━━━━\u001b[0m \u001b[32m753.3/753.3 kB\u001b[0m \u001b[31m14.8 MB/s\u001b[0m eta \u001b[36m0:00:00\u001b[0m\n",
            "\u001b[?25hRequirement already satisfied: opencv-python in /usr/local/lib/python3.10/dist-packages (from keras-segmentation) (4.8.0.76)\n",
            "Requirement already satisfied: tqdm in /usr/local/lib/python3.10/dist-packages (from keras-segmentation) (4.66.4)\n",
            "Requirement already satisfied: numpy in /usr/local/lib/python3.10/dist-packages (from imageio==2.5.0->keras-segmentation) (1.25.2)\n",
            "Requirement already satisfied: pillow in /usr/local/lib/python3.10/dist-packages (from imageio==2.5.0->keras-segmentation) (9.4.0)\n",
            "Requirement already satisfied: scipy in /usr/local/lib/python3.10/dist-packages (from imgaug==0.2.9->keras-segmentation) (1.11.4)\n",
            "Requirement already satisfied: scikit-image>=0.11.0 in /usr/local/lib/python3.10/dist-packages (from imgaug==0.2.9->keras-segmentation) (0.19.3)\n",
            "Requirement already satisfied: six in /usr/local/lib/python3.10/dist-packages (from imgaug==0.2.9->keras-segmentation) (1.16.0)\n",
            "Requirement already satisfied: matplotlib in /usr/local/lib/python3.10/dist-packages (from imgaug==0.2.9->keras-segmentation) (3.7.1)\n",
            "Requirement already satisfied: Shapely in /usr/local/lib/python3.10/dist-packages (from imgaug==0.2.9->keras-segmentation) (2.0.4)\n",
            "Requirement already satisfied: networkx>=2.2 in /usr/local/lib/python3.10/dist-packages (from scikit-image>=0.11.0->imgaug==0.2.9->keras-segmentation) (3.3)\n",
            "Requirement already satisfied: tifffile>=2019.7.26 in /usr/local/lib/python3.10/dist-packages (from scikit-image>=0.11.0->imgaug==0.2.9->keras-segmentation) (2024.4.24)\n",
            "Requirement already satisfied: PyWavelets>=1.1.1 in /usr/local/lib/python3.10/dist-packages (from scikit-image>=0.11.0->imgaug==0.2.9->keras-segmentation) (1.6.0)\n",
            "Requirement already satisfied: packaging>=20.0 in /usr/local/lib/python3.10/dist-packages (from scikit-image>=0.11.0->imgaug==0.2.9->keras-segmentation) (24.0)\n",
            "Requirement already satisfied: contourpy>=1.0.1 in /usr/local/lib/python3.10/dist-packages (from matplotlib->imgaug==0.2.9->keras-segmentation) (1.2.1)\n",
            "Requirement already satisfied: cycler>=0.10 in /usr/local/lib/python3.10/dist-packages (from matplotlib->imgaug==0.2.9->keras-segmentation) (0.12.1)\n",
            "Requirement already satisfied: fonttools>=4.22.0 in /usr/local/lib/python3.10/dist-packages (from matplotlib->imgaug==0.2.9->keras-segmentation) (4.51.0)\n",
            "Requirement already satisfied: kiwisolver>=1.0.1 in /usr/local/lib/python3.10/dist-packages (from matplotlib->imgaug==0.2.9->keras-segmentation) (1.4.5)\n",
            "Requirement already satisfied: pyparsing>=2.3.1 in /usr/local/lib/python3.10/dist-packages (from matplotlib->imgaug==0.2.9->keras-segmentation) (3.1.2)\n",
            "Requirement already satisfied: python-dateutil>=2.7 in /usr/local/lib/python3.10/dist-packages (from matplotlib->imgaug==0.2.9->keras-segmentation) (2.8.2)\n",
            "Building wheels for collected packages: keras-segmentation\n",
            "  Building wheel for keras-segmentation (setup.py) ... \u001b[?25l\u001b[?25hdone\n",
            "  Created wheel for keras-segmentation: filename=keras_segmentation-0.3.0-py3-none-any.whl size=29056 sha256=dd9b584b6430a49082e978aa22860e6b1c5371c3f22692dc6c6fa89dd65d1886\n",
            "  Stored in directory: /root/.cache/pip/wheels/2a/87/5b/ddc104c262fe1280e0565a2cc1b9b6b04963af12e462cdf068\n",
            "Successfully built keras-segmentation\n",
            "Installing collected packages: imageio, imgaug, keras-segmentation\n",
            "  Attempting uninstall: imageio\n",
            "    Found existing installation: imageio 2.31.6\n",
            "    Uninstalling imageio-2.31.6:\n",
            "      Successfully uninstalled imageio-2.31.6\n",
            "  Attempting uninstall: imgaug\n",
            "    Found existing installation: imgaug 0.4.0\n",
            "    Uninstalling imgaug-0.4.0:\n",
            "      Successfully uninstalled imgaug-0.4.0\n",
            "Successfully installed imageio-2.5.0 imgaug-0.2.9 keras-segmentation-0.3.0\n"
          ]
        }
      ]
    },
    {
      "cell_type": "code",
      "source": [
        "from keras_segmentation.models.unet import vgg_unet\n",
        "\n",
        "n_classes = 23 # Aerial Semantic Segmentation Drone Dataset tree, gras, other vegetation, dirt, gravel, rocks, water, paved area, pool, person, dog, car, bicycle, roof, wall, fence, fence-pole, window, door, obstacle\n",
        "model = vgg_unet(n_classes=n_classes ,  input_height=416, input_width=608  )\n",
        "\n",
        "model.train(\n",
        "    train_images =  \"/dataset/semantic_drone_dataset/original_images/\",\n",
        "    train_annotations = \"/dataset/semantic_drone_dataset/label_images_semantic/\",\n",
        "    checkpoints_path = \"vgg_unet\" , epochs=20\n",
        ")"
      ],
      "metadata": {
        "colab": {
          "base_uri": "https://localhost:8080/"
        },
        "id": "WgmO1A0CaXnq",
        "outputId": "d54c6057-011e-4011-b35c-b1ab5fcf29a7"
      },
      "execution_count": 4,
      "outputs": [
        {
          "output_type": "stream",
          "name": "stdout",
          "text": [
            "\n",
            "Using TensorFlow backend.\n",
            "Downloading data from https://github.com/fchollet/deep-learning-models/releases/download/v0.1/vgg16_weights_tf_dim_ordering_tf_kernels_notop.h5\n",
            "58892288/58889256 [==============================] - 5s 0us/step\n",
            "  0%|          | 0/400 [00:00<?, ?it/s]\n",
            "Verifying training dataset\n",
            "100%|██████████| 400/400 [05:23<00:00,  1.24it/s]\n",
            "Dataset verified! \n",
            "Epoch 1/5\n",
            "512/512 [==============================] - 693s 1s/step - loss: 1.4858 - accuracy: 0.5910\n",
            "saved  vgg_unet.0\n",
            "Epoch 2/5\n",
            "512/512 [==============================] - 690s 1s/step - loss: 1.1745 - accuracy: 0.6474\n",
            "saved  vgg_unet.1\n",
            "Epoch 3/5\n",
            "512/512 [==============================] - 689s 1s/step - loss: 1.0604 - accuracy: 0.6776\n",
            "saved  vgg_unet.2\n",
            "Epoch 4/5\n",
            "512/512 [==============================] - 692s 1s/step - loss: 0.9800 - accuracy: 0.7042\n",
            "saved  vgg_unet.3\n",
            "Epoch 5/5\n",
            "512/512 [==============================] - 692s 1s/step - loss: 0.9144 - accuracy: 0.7254\n",
            "saved  vgg_unet.4\n",
            "\n"
          ]
        }
      ]
    },
    {
      "cell_type": "code",
      "source": [
        "from keras_segmentation.models.unet import vgg_unet\n",
        "from keras_segmentation.predict import predict_multiple\n",
        "from keras_segmentation.metrics import calculate_iou\n",
        "\n",
        "\n",
        "# Inference on the validation dataset\n",
        "val_images = \"/dataset2/semantic_drone_dataset/original_images/\"\n",
        "val_annotations = \"/dataset2/semantic_drone_dataset/label_images_semantic/\"\n",
        "output_path = \"predictions/\"\n",
        "predict_multiple(val_images, output_path, model)\n",
        "\n",
        "# Calculate IoU for each class and mIoU\n",
        "iou, miou = calculate_iou(val_annotations, output_path)\n",
        "\n",
        "print(\"Mean IoU (mIoU):\", miou)"
      ],
      "metadata": {
        "colab": {
          "base_uri": "https://localhost:8080/"
        },
        "id": "2-iD8iPik3_z",
        "outputId": "2da58533-a46b-4c0a-c171-a1f0567b82d5"
      },
      "execution_count": 5,
      "outputs": [
        {
          "output_type": "stream",
          "name": "stdout",
          "text": [
            "Mean IoU (mIoU): 0.8\n"
          ]
        }
      ]
    },
    {
      "cell_type": "code",
      "source": [],
      "metadata": {
        "id": "v1z4VuCUk9Tw"
      },
      "execution_count": null,
      "outputs": []
    }
  ]
}